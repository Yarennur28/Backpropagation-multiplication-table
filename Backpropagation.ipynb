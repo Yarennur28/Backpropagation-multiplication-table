{
  "nbformat": 4,
  "nbformat_minor": 0,
  "metadata": {
    "colab": {
      "provenance": []
    },
    "kernelspec": {
      "name": "python3",
      "display_name": "Python 3"
    },
    "language_info": {
      "name": "python"
    }
  },
  "cells": [
    {
      "cell_type": "code",
      "execution_count": 23,
      "metadata": {
        "id": "s0I-vt6W7Ubh"
      },
      "outputs": [],
      "source": [
        "import random\n",
        "import math\n",
        "import matplotlib.pyplot as plt\n",
        "\n",
        "def sigmoid(x):\n",
        "    return 1 / (1 + math.exp(-x))\n",
        "\n",
        "def sigmoid_derivative(x):\n",
        "    return x * (1 - x)\n",
        "\n",
        "def mean_squared_error(output, target):\n",
        "    return sum((o - t) ** 2 for o, t in zip(output, target)) / len(output)\n",
        "\n",
        "def generate_data():\n",
        "    training_data = []\n",
        "    testing_data = []\n",
        "    for i in range(1, 10, 2):\n",
        "        for j in range(1, 10, 2):\n",
        "            training_data.append(((i, j), i * j))\n",
        "            testing_data.append(((i, j), i * j))\n",
        "    return training_data, testing_data"
      ]
    },
    {
      "cell_type": "code",
      "source": [
        "input_neurons = 2\n",
        "hidden_neurons = 6\n",
        "output_neurons = 1\n",
        "\n",
        "weights_input_hidden = [[random.uniform(-1, 1) for _ in range(hidden_neurons)] for _ in range(input_neurons)]\n",
        "weights_hidden_output = [random.uniform(-1, 1) for _ in range(hidden_neurons)]\n",
        "\n",
        "bias_hidden = [random.uniform(-1, 1) for _ in range(hidden_neurons)]\n",
        "bias_output = random.uniform(-1, 1)"
      ],
      "metadata": {
        "id": "ZdB4SrjH7fYR"
      },
      "execution_count": 24,
      "outputs": []
    },
    {
      "cell_type": "code",
      "source": [
        "learning_rate = 0.01\n",
        "epochs = 10000\n",
        "training_data, testing_data = generate_data()\n",
        "\n",
        "def normalize_data(data):\n",
        "    max_value = 9 * 9\n",
        "    return [((x1 / max_value), (x2 / max_value), target / max_value) for (x1, x2), target in data]\n",
        "\n",
        "training_data = normalize_data(training_data)\n",
        "testing_data = normalize_data(testing_data)\n",
        "\n",
        "training_losses = []\n",
        "testing_losses = []"
      ],
      "metadata": {
        "id": "fRJnpveP7j0q"
      },
      "execution_count": 25,
      "outputs": []
    },
    {
      "cell_type": "code",
      "source": [
        "def forward_propagation(x1, x2):\n",
        "    hidden_layer_input = [x1 * weights_input_hidden[0][i] + x2 * weights_input_hidden[1][i] + bias_hidden[i] for i in range(hidden_neurons)]\n",
        "    hidden_layer_output = [sigmoid(h) for h in hidden_layer_input]\n",
        "\n",
        "    output_layer_input = sum(hidden_layer_output[i] * weights_hidden_output[i] for i in range(hidden_neurons)) + bias_output\n",
        "    output = output_layer_input\n",
        "\n",
        "    return hidden_layer_output, output"
      ],
      "metadata": {
        "id": "y6hMg5pS7na5"
      },
      "execution_count": 26,
      "outputs": []
    },
    {
      "cell_type": "code",
      "source": [
        "for epoch in range(epochs):\n",
        "    total_error = 0\n",
        "    for x1, x2, target in training_data:\n",
        "\n",
        "        hidden_layer_output, output = forward_propagation(x1, x2)\n",
        "\n",
        "        error = target - output\n",
        "        total_error += error ** 2\n",
        "\n",
        "        output_delta = error\n",
        "\n",
        "        hidden_deltas = [output_delta * weights_hidden_output[i] * sigmoid_derivative(hidden_layer_output[i]) for i in range(hidden_neurons)]\n",
        "\n",
        "        for i in range(hidden_neurons):\n",
        "            weights_hidden_output[i] += learning_rate * output_delta * hidden_layer_output[i]\n",
        "        bias_output += learning_rate * output_delta\n",
        "\n",
        "        for i in range(input_neurons):\n",
        "            for j in range(hidden_neurons):\n",
        "                weights_input_hidden[i][j] += learning_rate * hidden_deltas[j] * (x1 if i == 0 else x2)\n",
        "        for j in range(hidden_neurons):\n",
        "            bias_hidden[j] += learning_rate * hidden_deltas[j]\n",
        "\n",
        "    training_losses.append(total_error / len(training_data))\n",
        "\n",
        "    print(f\"Epoch {epoch + 1} - Toplam Eğitim Kaybı: {total_error / len(training_data):.4f}\")"
      ],
      "metadata": {
        "id": "QS5WDCiO7utu"
      },
      "execution_count": null,
      "outputs": []
    },
    {
      "cell_type": "code",
      "source": [
        "plt.plot(range(epochs), training_losses, label='Eğitim Kaybı')\n",
        "plt.xlabel('Epoch')\n",
        "plt.ylabel('Kayıp')\n",
        "plt.title('Epochlar Boyunca Eğitim Kaybı')\n",
        "plt.legend()\n",
        "plt.show()"
      ],
      "metadata": {
        "id": "eheHDyem7vjb"
      },
      "execution_count": null,
      "outputs": []
    },
    {
      "cell_type": "code",
      "source": [
        "def test_model(x1, x2):\n",
        "\n",
        "    max_value = 9 * 9\n",
        "    x1_norm, x2_norm = x1 / max_value, x2 / max_value\n",
        "\n",
        "    _, output = forward_propagation(x1_norm, x2_norm)\n",
        "\n",
        "    real_value = x1 * x2\n",
        "\n",
        "    error = real_value - output\n",
        "    loss = error ** 2\n",
        "\n",
        "    print(f\"\\nTest Sonucu: {x1} * {x2} = {real_value}\")\n",
        "    print(f\"Tahmin: {output * max_value:.4f}\")\n",
        "    print(f\"Gerçek Değer: {real_value}\")\n",
        "\n",
        "x1 = int(input(\"Birinci çift sayıyı girin: \"))\n",
        "x2 = int(input(\"İkinci çift sayıyı girin: \"))\n",
        "\n",
        "test_model(x1, x2)"
      ],
      "metadata": {
        "id": "UDsmCaxMHIOS"
      },
      "execution_count": null,
      "outputs": []
    }
  ]
}